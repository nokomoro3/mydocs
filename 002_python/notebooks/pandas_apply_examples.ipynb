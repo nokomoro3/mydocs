{
 "cells": [
  {
   "cell_type": "code",
   "execution_count": 1,
   "id": "7827b76d-6a46-450f-881a-30e48a455f29",
   "metadata": {},
   "outputs": [],
   "source": [
    "import pandas as pd"
   ]
  },
  {
   "cell_type": "markdown",
   "id": "73f7ad01-b3a5-4840-83eb-4c3ebf090c08",
   "metadata": {},
   "source": [
    "## pandasのapplyであそぼ"
   ]
  },
  {
   "cell_type": "markdown",
   "id": "c255e1d2-57cd-4567-857b-2ba01701f895",
   "metadata": {},
   "source": [
    "### sampleデータ準備"
   ]
  },
  {
   "cell_type": "code",
   "execution_count": 28,
   "id": "4df24abb-72f4-49f1-9e92-2a0077658c69",
   "metadata": {},
   "outputs": [
    {
     "data": {
      "text/html": [
       "<div>\n",
       "<style scoped>\n",
       "    .dataframe tbody tr th:only-of-type {\n",
       "        vertical-align: middle;\n",
       "    }\n",
       "\n",
       "    .dataframe tbody tr th {\n",
       "        vertical-align: top;\n",
       "    }\n",
       "\n",
       "    .dataframe thead th {\n",
       "        text-align: right;\n",
       "    }\n",
       "</style>\n",
       "<table border=\"1\" class=\"dataframe\">\n",
       "  <thead>\n",
       "    <tr style=\"text-align: right;\">\n",
       "      <th></th>\n",
       "      <th>gender</th>\n",
       "      <th>address1</th>\n",
       "      <th>address2</th>\n",
       "      <th>age</th>\n",
       "    </tr>\n",
       "  </thead>\n",
       "  <tbody>\n",
       "    <tr>\n",
       "      <th>0</th>\n",
       "      <td>男性</td>\n",
       "      <td>神奈川県</td>\n",
       "      <td>川崎市</td>\n",
       "      <td>11</td>\n",
       "    </tr>\n",
       "    <tr>\n",
       "      <th>1</th>\n",
       "      <td>男性</td>\n",
       "      <td>東京都</td>\n",
       "      <td>渋谷区</td>\n",
       "      <td>34</td>\n",
       "    </tr>\n",
       "    <tr>\n",
       "      <th>2</th>\n",
       "      <td>男性</td>\n",
       "      <td>神奈川県</td>\n",
       "      <td>横浜市</td>\n",
       "      <td>44</td>\n",
       "    </tr>\n",
       "    <tr>\n",
       "      <th>3</th>\n",
       "      <td>女性</td>\n",
       "      <td>東京都</td>\n",
       "      <td>品川区</td>\n",
       "      <td>22</td>\n",
       "    </tr>\n",
       "    <tr>\n",
       "      <th>4</th>\n",
       "      <td>女性</td>\n",
       "      <td>東京都</td>\n",
       "      <td>新宿区</td>\n",
       "      <td>33</td>\n",
       "    </tr>\n",
       "    <tr>\n",
       "      <th>5</th>\n",
       "      <td>女性</td>\n",
       "      <td>千葉県</td>\n",
       "      <td>柏市</td>\n",
       "      <td>22</td>\n",
       "    </tr>\n",
       "    <tr>\n",
       "      <th>6</th>\n",
       "      <td>不明</td>\n",
       "      <td>千葉県</td>\n",
       "      <td>千葉市</td>\n",
       "      <td>60</td>\n",
       "    </tr>\n",
       "    <tr>\n",
       "      <th>7</th>\n",
       "      <td>不明</td>\n",
       "      <td>東京都</td>\n",
       "      <td>千代田区</td>\n",
       "      <td>54</td>\n",
       "    </tr>\n",
       "    <tr>\n",
       "      <th>8</th>\n",
       "      <td>不明</td>\n",
       "      <td>千葉県</td>\n",
       "      <td>船橋市</td>\n",
       "      <td>30</td>\n",
       "    </tr>\n",
       "  </tbody>\n",
       "</table>\n",
       "</div>"
      ],
      "text/plain": [
       "  gender address1 address2  age\n",
       "0     男性     神奈川県      川崎市   11\n",
       "1     男性      東京都      渋谷区   34\n",
       "2     男性     神奈川県      横浜市   44\n",
       "3     女性      東京都      品川区   22\n",
       "4     女性      東京都      新宿区   33\n",
       "5     女性      千葉県       柏市   22\n",
       "6     不明      千葉県      千葉市   60\n",
       "7     不明      東京都     千代田区   54\n",
       "8     不明      千葉県      船橋市   30"
      ]
     },
     "execution_count": 28,
     "metadata": {},
     "output_type": "execute_result"
    }
   ],
   "source": [
    "df = pd.DataFrame([\n",
    "    [\"男性\",\"神奈川県\", '川崎市', 11],\n",
    "    [\"男性\",\"東京都\", '渋谷区', 34],\n",
    "    [\"男性\",\"神奈川県\", '横浜市', 44],\n",
    "    [\"女性\",\"東京都\", '品川区', 22],\n",
    "    [\"女性\",\"東京都\", '新宿区', 33],\n",
    "    [\"女性\",\"千葉県\", '柏市', 22],\n",
    "    [\"不明\",\"千葉県\", '千葉市', 60],\n",
    "    [\"不明\",\"東京都\", '千代田区', 54],\n",
    "    [\"不明\",\"千葉県\", '船橋市', 30],\n",
    "], columns=['gender','address1', 'address2', 'age'])\n",
    "df"
   ]
  },
  {
   "cell_type": "markdown",
   "id": "25676593-f260-4382-8a4f-da583891747e",
   "metadata": {},
   "source": [
    "### DFからSeriesを抽出してapply\n",
    "- 関数内では、１個分のスカラー値を扱える。"
   ]
  },
  {
   "cell_type": "markdown",
   "id": "22d3528f-f4e9-42c0-aac3-ef8a1ad9c2db",
   "metadata": {},
   "source": [
    "- 単純なreturnだと、Seriesで結果がreturnされる。"
   ]
  },
  {
   "cell_type": "code",
   "execution_count": 47,
   "id": "ce45a956-bf8f-41a4-a32e-9f950ef7b93f",
   "metadata": {},
   "outputs": [
    {
     "name": "stdout",
     "output_type": "stream",
     "text": [
      "CPU times: user 505 µs, sys: 133 µs, total: 638 µs\n",
      "Wall time: 645 µs\n"
     ]
    },
    {
     "data": {
      "text/plain": [
       "0     22\n",
       "1     68\n",
       "2     88\n",
       "3     44\n",
       "4     66\n",
       "5     44\n",
       "6    120\n",
       "7    108\n",
       "8     60\n",
       "Name: age, dtype: int64"
      ]
     },
     "execution_count": 47,
     "metadata": {},
     "output_type": "execute_result"
    }
   ],
   "source": [
    "%%time\n",
    "def sample1(x):\n",
    "    return x*2\n",
    "df['age'].apply(sample1)"
   ]
  },
  {
   "cell_type": "markdown",
   "id": "9c06832c-e243-49c0-941f-e391c7af03cb",
   "metadata": {},
   "source": [
    "- Seriesでreturnすると、DFでreturnされる。名前が付けられるので便利だが、ちょっと処理が遅くなる。"
   ]
  },
  {
   "cell_type": "code",
   "execution_count": 48,
   "id": "858acdab-8f89-44cd-9cb4-14b9a55380cb",
   "metadata": {},
   "outputs": [
    {
     "name": "stdout",
     "output_type": "stream",
     "text": [
      "CPU times: user 7.46 ms, sys: 0 ns, total: 7.46 ms\n",
      "Wall time: 7.07 ms\n"
     ]
    },
    {
     "data": {
      "text/html": [
       "<div>\n",
       "<style scoped>\n",
       "    .dataframe tbody tr th:only-of-type {\n",
       "        vertical-align: middle;\n",
       "    }\n",
       "\n",
       "    .dataframe tbody tr th {\n",
       "        vertical-align: top;\n",
       "    }\n",
       "\n",
       "    .dataframe thead th {\n",
       "        text-align: right;\n",
       "    }\n",
       "</style>\n",
       "<table border=\"1\" class=\"dataframe\">\n",
       "  <thead>\n",
       "    <tr style=\"text-align: right;\">\n",
       "      <th></th>\n",
       "      <th>age_x2</th>\n",
       "    </tr>\n",
       "  </thead>\n",
       "  <tbody>\n",
       "    <tr>\n",
       "      <th>0</th>\n",
       "      <td>22</td>\n",
       "    </tr>\n",
       "    <tr>\n",
       "      <th>1</th>\n",
       "      <td>68</td>\n",
       "    </tr>\n",
       "    <tr>\n",
       "      <th>2</th>\n",
       "      <td>88</td>\n",
       "    </tr>\n",
       "    <tr>\n",
       "      <th>3</th>\n",
       "      <td>44</td>\n",
       "    </tr>\n",
       "    <tr>\n",
       "      <th>4</th>\n",
       "      <td>66</td>\n",
       "    </tr>\n",
       "    <tr>\n",
       "      <th>5</th>\n",
       "      <td>44</td>\n",
       "    </tr>\n",
       "    <tr>\n",
       "      <th>6</th>\n",
       "      <td>120</td>\n",
       "    </tr>\n",
       "    <tr>\n",
       "      <th>7</th>\n",
       "      <td>108</td>\n",
       "    </tr>\n",
       "    <tr>\n",
       "      <th>8</th>\n",
       "      <td>60</td>\n",
       "    </tr>\n",
       "  </tbody>\n",
       "</table>\n",
       "</div>"
      ],
      "text/plain": [
       "   age_x2\n",
       "0      22\n",
       "1      68\n",
       "2      88\n",
       "3      44\n",
       "4      66\n",
       "5      44\n",
       "6     120\n",
       "7     108\n",
       "8      60"
      ]
     },
     "execution_count": 48,
     "metadata": {},
     "output_type": "execute_result"
    }
   ],
   "source": [
    "%%time\n",
    "def sample2(x):\n",
    "    return pd.Series({\"age_x2\": x*2})\n",
    "df['age'].apply(sample2)"
   ]
  },
  {
   "cell_type": "markdown",
   "id": "8601173e-8102-4f7a-836d-896bc846bf58",
   "metadata": {},
   "source": [
    "- Seriesでreturnは、複数の値を返すこともできる。"
   ]
  },
  {
   "cell_type": "code",
   "execution_count": 70,
   "id": "ea59cf6b-5dd8-443b-bfa5-c440a778b1e4",
   "metadata": {},
   "outputs": [
    {
     "name": "stdout",
     "output_type": "stream",
     "text": [
      "CPU times: user 7.74 ms, sys: 0 ns, total: 7.74 ms\n",
      "Wall time: 7.32 ms\n"
     ]
    },
    {
     "data": {
      "text/html": [
       "<div>\n",
       "<style scoped>\n",
       "    .dataframe tbody tr th:only-of-type {\n",
       "        vertical-align: middle;\n",
       "    }\n",
       "\n",
       "    .dataframe tbody tr th {\n",
       "        vertical-align: top;\n",
       "    }\n",
       "\n",
       "    .dataframe thead th {\n",
       "        text-align: right;\n",
       "    }\n",
       "</style>\n",
       "<table border=\"1\" class=\"dataframe\">\n",
       "  <thead>\n",
       "    <tr style=\"text-align: right;\">\n",
       "      <th></th>\n",
       "      <th>age_x2</th>\n",
       "      <th>age_x3</th>\n",
       "    </tr>\n",
       "  </thead>\n",
       "  <tbody>\n",
       "    <tr>\n",
       "      <th>0</th>\n",
       "      <td>22</td>\n",
       "      <td>33</td>\n",
       "    </tr>\n",
       "    <tr>\n",
       "      <th>1</th>\n",
       "      <td>68</td>\n",
       "      <td>102</td>\n",
       "    </tr>\n",
       "    <tr>\n",
       "      <th>2</th>\n",
       "      <td>88</td>\n",
       "      <td>132</td>\n",
       "    </tr>\n",
       "    <tr>\n",
       "      <th>3</th>\n",
       "      <td>44</td>\n",
       "      <td>66</td>\n",
       "    </tr>\n",
       "    <tr>\n",
       "      <th>4</th>\n",
       "      <td>66</td>\n",
       "      <td>99</td>\n",
       "    </tr>\n",
       "    <tr>\n",
       "      <th>5</th>\n",
       "      <td>44</td>\n",
       "      <td>66</td>\n",
       "    </tr>\n",
       "    <tr>\n",
       "      <th>6</th>\n",
       "      <td>120</td>\n",
       "      <td>180</td>\n",
       "    </tr>\n",
       "    <tr>\n",
       "      <th>7</th>\n",
       "      <td>108</td>\n",
       "      <td>162</td>\n",
       "    </tr>\n",
       "    <tr>\n",
       "      <th>8</th>\n",
       "      <td>60</td>\n",
       "      <td>90</td>\n",
       "    </tr>\n",
       "  </tbody>\n",
       "</table>\n",
       "</div>"
      ],
      "text/plain": [
       "   age_x2  age_x3\n",
       "0      22      33\n",
       "1      68     102\n",
       "2      88     132\n",
       "3      44      66\n",
       "4      66      99\n",
       "5      44      66\n",
       "6     120     180\n",
       "7     108     162\n",
       "8      60      90"
      ]
     },
     "execution_count": 70,
     "metadata": {},
     "output_type": "execute_result"
    }
   ],
   "source": [
    "%%time\n",
    "def sample3(x):\n",
    "    return pd.Series({\"age_x2\": x*2, \"age_x3\": x*3})\n",
    "df['age'].apply(sample3)"
   ]
  },
  {
   "cell_type": "markdown",
   "id": "bf57f958-8d63-4e3c-9140-fb80f0b31dd3",
   "metadata": {},
   "source": [
    "- むろん、lambdaでも書ける。"
   ]
  },
  {
   "cell_type": "code",
   "execution_count": 72,
   "id": "5764f9c7-c103-4ecf-b636-d937da53276e",
   "metadata": {},
   "outputs": [
    {
     "data": {
      "text/html": [
       "<div>\n",
       "<style scoped>\n",
       "    .dataframe tbody tr th:only-of-type {\n",
       "        vertical-align: middle;\n",
       "    }\n",
       "\n",
       "    .dataframe tbody tr th {\n",
       "        vertical-align: top;\n",
       "    }\n",
       "\n",
       "    .dataframe thead th {\n",
       "        text-align: right;\n",
       "    }\n",
       "</style>\n",
       "<table border=\"1\" class=\"dataframe\">\n",
       "  <thead>\n",
       "    <tr style=\"text-align: right;\">\n",
       "      <th></th>\n",
       "      <th>age_x2</th>\n",
       "      <th>age_x3</th>\n",
       "    </tr>\n",
       "  </thead>\n",
       "  <tbody>\n",
       "    <tr>\n",
       "      <th>0</th>\n",
       "      <td>22</td>\n",
       "      <td>33</td>\n",
       "    </tr>\n",
       "    <tr>\n",
       "      <th>1</th>\n",
       "      <td>68</td>\n",
       "      <td>102</td>\n",
       "    </tr>\n",
       "    <tr>\n",
       "      <th>2</th>\n",
       "      <td>88</td>\n",
       "      <td>132</td>\n",
       "    </tr>\n",
       "    <tr>\n",
       "      <th>3</th>\n",
       "      <td>44</td>\n",
       "      <td>66</td>\n",
       "    </tr>\n",
       "    <tr>\n",
       "      <th>4</th>\n",
       "      <td>66</td>\n",
       "      <td>99</td>\n",
       "    </tr>\n",
       "    <tr>\n",
       "      <th>5</th>\n",
       "      <td>44</td>\n",
       "      <td>66</td>\n",
       "    </tr>\n",
       "    <tr>\n",
       "      <th>6</th>\n",
       "      <td>120</td>\n",
       "      <td>180</td>\n",
       "    </tr>\n",
       "    <tr>\n",
       "      <th>7</th>\n",
       "      <td>108</td>\n",
       "      <td>162</td>\n",
       "    </tr>\n",
       "    <tr>\n",
       "      <th>8</th>\n",
       "      <td>60</td>\n",
       "      <td>90</td>\n",
       "    </tr>\n",
       "  </tbody>\n",
       "</table>\n",
       "</div>"
      ],
      "text/plain": [
       "   age_x2  age_x3\n",
       "0      22      33\n",
       "1      68     102\n",
       "2      88     132\n",
       "3      44      66\n",
       "4      66      99\n",
       "5      44      66\n",
       "6     120     180\n",
       "7     108     162\n",
       "8      60      90"
      ]
     },
     "execution_count": 72,
     "metadata": {},
     "output_type": "execute_result"
    }
   ],
   "source": [
    "df['age'].apply(lambda x: pd.Series({\"age_x2\": x*2, \"age_x3\": x*3}))"
   ]
  },
  {
   "cell_type": "markdown",
   "id": "bd57ed66-c870-4f82-95c6-ce9d3a80e6b9",
   "metadata": {},
   "source": [
    "### DFに直接apply\n",
    "- DFにapplyする場合、関数内では、1行(もしくは1列)分のSeriesが扱える。\n",
    "- 行にするためには、axis=1を引数に指定する必要がある。\n",
    "  - axis=0だと列を扱えるはずだが、あまり使わないかも？"
   ]
  },
  {
   "cell_type": "code",
   "execution_count": 74,
   "id": "e177d3bf-eece-48eb-87aa-21426c7e6f93",
   "metadata": {},
   "outputs": [
    {
     "name": "stdout",
     "output_type": "stream",
     "text": [
      "CPU times: user 5.63 ms, sys: 0 ns, total: 5.63 ms\n",
      "Wall time: 5.03 ms\n"
     ]
    },
    {
     "data": {
      "text/html": [
       "<div>\n",
       "<style scoped>\n",
       "    .dataframe tbody tr th:only-of-type {\n",
       "        vertical-align: middle;\n",
       "    }\n",
       "\n",
       "    .dataframe tbody tr th {\n",
       "        vertical-align: top;\n",
       "    }\n",
       "\n",
       "    .dataframe thead th {\n",
       "        text-align: right;\n",
       "    }\n",
       "</style>\n",
       "<table border=\"1\" class=\"dataframe\">\n",
       "  <thead>\n",
       "    <tr style=\"text-align: right;\">\n",
       "      <th></th>\n",
       "      <th>age_x2</th>\n",
       "    </tr>\n",
       "  </thead>\n",
       "  <tbody>\n",
       "    <tr>\n",
       "      <th>0</th>\n",
       "      <td>22</td>\n",
       "    </tr>\n",
       "    <tr>\n",
       "      <th>1</th>\n",
       "      <td>68</td>\n",
       "    </tr>\n",
       "    <tr>\n",
       "      <th>2</th>\n",
       "      <td>88</td>\n",
       "    </tr>\n",
       "    <tr>\n",
       "      <th>3</th>\n",
       "      <td>44</td>\n",
       "    </tr>\n",
       "    <tr>\n",
       "      <th>4</th>\n",
       "      <td>66</td>\n",
       "    </tr>\n",
       "    <tr>\n",
       "      <th>5</th>\n",
       "      <td>44</td>\n",
       "    </tr>\n",
       "    <tr>\n",
       "      <th>6</th>\n",
       "      <td>120</td>\n",
       "    </tr>\n",
       "    <tr>\n",
       "      <th>7</th>\n",
       "      <td>108</td>\n",
       "    </tr>\n",
       "    <tr>\n",
       "      <th>8</th>\n",
       "      <td>60</td>\n",
       "    </tr>\n",
       "  </tbody>\n",
       "</table>\n",
       "</div>"
      ],
      "text/plain": [
       "   age_x2\n",
       "0      22\n",
       "1      68\n",
       "2      88\n",
       "3      44\n",
       "4      66\n",
       "5      44\n",
       "6     120\n",
       "7     108\n",
       "8      60"
      ]
     },
     "execution_count": 74,
     "metadata": {},
     "output_type": "execute_result"
    }
   ],
   "source": [
    "%%time\n",
    "def sample4(x):\n",
    "    return pd.Series({\"age_x2\": x['age']*2})\n",
    "df.apply(sample4, axis=1)"
   ]
  },
  {
   "cell_type": "markdown",
   "id": "f91d430e-b0cf-4afa-b397-77c207f4a200",
   "metadata": {},
   "source": [
    "- 行内のすべての値にアクセスできるので、条件分岐もできる。"
   ]
  },
  {
   "cell_type": "code",
   "execution_count": 51,
   "id": "04fbacc4-e2ff-4dec-b029-05b59388b884",
   "metadata": {},
   "outputs": [
    {
     "name": "stdout",
     "output_type": "stream",
     "text": [
      "CPU times: user 7.23 ms, sys: 2.78 ms, total: 10 ms\n",
      "Wall time: 9.35 ms\n"
     ]
    },
    {
     "data": {
      "text/html": [
       "<div>\n",
       "<style scoped>\n",
       "    .dataframe tbody tr th:only-of-type {\n",
       "        vertical-align: middle;\n",
       "    }\n",
       "\n",
       "    .dataframe tbody tr th {\n",
       "        vertical-align: top;\n",
       "    }\n",
       "\n",
       "    .dataframe thead th {\n",
       "        text-align: right;\n",
       "    }\n",
       "</style>\n",
       "<table border=\"1\" class=\"dataframe\">\n",
       "  <thead>\n",
       "    <tr style=\"text-align: right;\">\n",
       "      <th></th>\n",
       "      <th>age_mod</th>\n",
       "    </tr>\n",
       "  </thead>\n",
       "  <tbody>\n",
       "    <tr>\n",
       "      <th>0</th>\n",
       "      <td>11</td>\n",
       "    </tr>\n",
       "    <tr>\n",
       "      <th>1</th>\n",
       "      <td>34</td>\n",
       "    </tr>\n",
       "    <tr>\n",
       "      <th>2</th>\n",
       "      <td>44</td>\n",
       "    </tr>\n",
       "    <tr>\n",
       "      <th>3</th>\n",
       "      <td>黙秘</td>\n",
       "    </tr>\n",
       "    <tr>\n",
       "      <th>4</th>\n",
       "      <td>黙秘</td>\n",
       "    </tr>\n",
       "    <tr>\n",
       "      <th>5</th>\n",
       "      <td>黙秘</td>\n",
       "    </tr>\n",
       "    <tr>\n",
       "      <th>6</th>\n",
       "      <td>60</td>\n",
       "    </tr>\n",
       "    <tr>\n",
       "      <th>7</th>\n",
       "      <td>54</td>\n",
       "    </tr>\n",
       "    <tr>\n",
       "      <th>8</th>\n",
       "      <td>30</td>\n",
       "    </tr>\n",
       "  </tbody>\n",
       "</table>\n",
       "</div>"
      ],
      "text/plain": [
       "  age_mod\n",
       "0      11\n",
       "1      34\n",
       "2      44\n",
       "3      黙秘\n",
       "4      黙秘\n",
       "5      黙秘\n",
       "6      60\n",
       "7      54\n",
       "8      30"
      ]
     },
     "execution_count": 51,
     "metadata": {},
     "output_type": "execute_result"
    }
   ],
   "source": [
    "%%time\n",
    "def sample5(x):\n",
    "    if x['gender'] == '女性':\n",
    "        return pd.Series({\"age_mod\": \"黙秘\"})\n",
    "    else:\n",
    "        return pd.Series({\"age_mod\": x['age']})\n",
    "df.apply(sample5, axis=1)"
   ]
  },
  {
   "cell_type": "markdown",
   "id": "0fee905f-b1e3-46bd-9743-f2f442c3f895",
   "metadata": {},
   "source": [
    "- 戻り値を複数返すことももちろんできる。"
   ]
  },
  {
   "cell_type": "code",
   "execution_count": 66,
   "id": "3a43c0bc-b85f-4314-8252-7fcdf53de08c",
   "metadata": {},
   "outputs": [
    {
     "name": "stdout",
     "output_type": "stream",
     "text": [
      "CPU times: user 8.51 ms, sys: 99 µs, total: 8.61 ms\n",
      "Wall time: 8.39 ms\n"
     ]
    },
    {
     "data": {
      "text/html": [
       "<div>\n",
       "<style scoped>\n",
       "    .dataframe tbody tr th:only-of-type {\n",
       "        vertical-align: middle;\n",
       "    }\n",
       "\n",
       "    .dataframe tbody tr th {\n",
       "        vertical-align: top;\n",
       "    }\n",
       "\n",
       "    .dataframe thead th {\n",
       "        text-align: right;\n",
       "    }\n",
       "</style>\n",
       "<table border=\"1\" class=\"dataframe\">\n",
       "  <thead>\n",
       "    <tr style=\"text-align: right;\">\n",
       "      <th></th>\n",
       "      <th>age_mod</th>\n",
       "      <th>message</th>\n",
       "    </tr>\n",
       "  </thead>\n",
       "  <tbody>\n",
       "    <tr>\n",
       "      <th>0</th>\n",
       "      <td>11</td>\n",
       "      <td>年齢は11歳です。</td>\n",
       "    </tr>\n",
       "    <tr>\n",
       "      <th>1</th>\n",
       "      <td>34</td>\n",
       "      <td>年齢は34歳です。</td>\n",
       "    </tr>\n",
       "    <tr>\n",
       "      <th>2</th>\n",
       "      <td>44</td>\n",
       "      <td>年齢は44歳です。</td>\n",
       "    </tr>\n",
       "    <tr>\n",
       "      <th>3</th>\n",
       "      <td>黙秘</td>\n",
       "      <td>黙秘します。</td>\n",
       "    </tr>\n",
       "    <tr>\n",
       "      <th>4</th>\n",
       "      <td>黙秘</td>\n",
       "      <td>黙秘します。</td>\n",
       "    </tr>\n",
       "    <tr>\n",
       "      <th>5</th>\n",
       "      <td>黙秘</td>\n",
       "      <td>黙秘します。</td>\n",
       "    </tr>\n",
       "    <tr>\n",
       "      <th>6</th>\n",
       "      <td>60</td>\n",
       "      <td>年齢は60歳です。</td>\n",
       "    </tr>\n",
       "    <tr>\n",
       "      <th>7</th>\n",
       "      <td>54</td>\n",
       "      <td>年齢は54歳です。</td>\n",
       "    </tr>\n",
       "    <tr>\n",
       "      <th>8</th>\n",
       "      <td>30</td>\n",
       "      <td>年齢は30歳です。</td>\n",
       "    </tr>\n",
       "  </tbody>\n",
       "</table>\n",
       "</div>"
      ],
      "text/plain": [
       "  age_mod    message\n",
       "0      11  年齢は11歳です。\n",
       "1      34  年齢は34歳です。\n",
       "2      44  年齢は44歳です。\n",
       "3      黙秘     黙秘します。\n",
       "4      黙秘     黙秘します。\n",
       "5      黙秘     黙秘します。\n",
       "6      60  年齢は60歳です。\n",
       "7      54  年齢は54歳です。\n",
       "8      30  年齢は30歳です。"
      ]
     },
     "execution_count": 66,
     "metadata": {},
     "output_type": "execute_result"
    }
   ],
   "source": [
    "%%time\n",
    "def sample6(x):\n",
    "    if x['gender'] == '女性':\n",
    "        return pd.Series({\"age_mod\": \"黙秘\", \"message\": \"黙秘します。\"})\n",
    "    else:\n",
    "        return pd.Series({\"age_mod\": x['age'], \"message\": f\"年齢は{x['age']}歳です。\"})\n",
    "df.apply(sample6, axis=1)"
   ]
  },
  {
   "cell_type": "markdown",
   "id": "0d938a44-d39f-4f68-b70e-1f05736e3734",
   "metadata": {},
   "source": [
    "### groupbyにapply\n",
    "- groupybyにapplyする場合、関数内では、条件に該当する部分のDFが扱える。"
   ]
  },
  {
   "cell_type": "code",
   "execution_count": 64,
   "id": "b47a618a-fc22-42d8-bf8b-5f0d191a50cd",
   "metadata": {},
   "outputs": [
    {
     "data": {
      "text/html": [
       "<div>\n",
       "<style scoped>\n",
       "    .dataframe tbody tr th:only-of-type {\n",
       "        vertical-align: middle;\n",
       "    }\n",
       "\n",
       "    .dataframe tbody tr th {\n",
       "        vertical-align: top;\n",
       "    }\n",
       "\n",
       "    .dataframe thead th {\n",
       "        text-align: right;\n",
       "    }\n",
       "</style>\n",
       "<table border=\"1\" class=\"dataframe\">\n",
       "  <thead>\n",
       "    <tr style=\"text-align: right;\">\n",
       "      <th></th>\n",
       "      <th>address1</th>\n",
       "      <th>age_mean</th>\n",
       "    </tr>\n",
       "  </thead>\n",
       "  <tbody>\n",
       "    <tr>\n",
       "      <th>0</th>\n",
       "      <td>千葉県</td>\n",
       "      <td>37.333333</td>\n",
       "    </tr>\n",
       "    <tr>\n",
       "      <th>1</th>\n",
       "      <td>東京都</td>\n",
       "      <td>35.750000</td>\n",
       "    </tr>\n",
       "    <tr>\n",
       "      <th>2</th>\n",
       "      <td>神奈川県</td>\n",
       "      <td>27.500000</td>\n",
       "    </tr>\n",
       "  </tbody>\n",
       "</table>\n",
       "</div>"
      ],
      "text/plain": [
       "  address1   age_mean\n",
       "0      千葉県  37.333333\n",
       "1      東京都  35.750000\n",
       "2     神奈川県  27.500000"
      ]
     },
     "execution_count": 64,
     "metadata": {},
     "output_type": "execute_result"
    }
   ],
   "source": [
    "def sample7(x):\n",
    "    return pd.Series({\"age_mean\": x['age'].mean()})\n",
    "df.groupby('address1', as_index=False).apply(sample7)"
   ]
  },
  {
   "cell_type": "markdown",
   "id": "0167e807-7ae5-4771-99cd-92cd598f458c",
   "metadata": {},
   "source": [
    "- DFにapplyする時と同様、条件文や複数returnももちろんできる。"
   ]
  },
  {
   "cell_type": "code",
   "execution_count": 82,
   "id": "b2759754-1bb4-4d55-b136-b8ecb8090332",
   "metadata": {},
   "outputs": [
    {
     "data": {
      "text/html": [
       "<div>\n",
       "<style scoped>\n",
       "    .dataframe tbody tr th:only-of-type {\n",
       "        vertical-align: middle;\n",
       "    }\n",
       "\n",
       "    .dataframe tbody tr th {\n",
       "        vertical-align: top;\n",
       "    }\n",
       "\n",
       "    .dataframe thead th {\n",
       "        text-align: right;\n",
       "    }\n",
       "</style>\n",
       "<table border=\"1\" class=\"dataframe\">\n",
       "  <thead>\n",
       "    <tr style=\"text-align: right;\">\n",
       "      <th></th>\n",
       "      <th>address1</th>\n",
       "      <th>age_mean_male</th>\n",
       "      <th>age_mean_female</th>\n",
       "      <th>age_mean_unknown</th>\n",
       "    </tr>\n",
       "  </thead>\n",
       "  <tbody>\n",
       "    <tr>\n",
       "      <th>0</th>\n",
       "      <td>千葉県</td>\n",
       "      <td>NaN</td>\n",
       "      <td>22.0</td>\n",
       "      <td>45.0</td>\n",
       "    </tr>\n",
       "    <tr>\n",
       "      <th>1</th>\n",
       "      <td>東京都</td>\n",
       "      <td>34.0</td>\n",
       "      <td>27.5</td>\n",
       "      <td>54.0</td>\n",
       "    </tr>\n",
       "    <tr>\n",
       "      <th>2</th>\n",
       "      <td>神奈川県</td>\n",
       "      <td>27.5</td>\n",
       "      <td>NaN</td>\n",
       "      <td>NaN</td>\n",
       "    </tr>\n",
       "  </tbody>\n",
       "</table>\n",
       "</div>"
      ],
      "text/plain": [
       "  address1  age_mean_male  age_mean_female  age_mean_unknown\n",
       "0      千葉県            NaN             22.0              45.0\n",
       "1      東京都           34.0             27.5              54.0\n",
       "2     神奈川県           27.5              NaN               NaN"
      ]
     },
     "execution_count": 82,
     "metadata": {},
     "output_type": "execute_result"
    }
   ],
   "source": [
    "def sample8(x):\n",
    "    male_df = x.query('gender == \"男性\"')\n",
    "    female_df = x.query('gender == \"女性\"')\n",
    "    unknown_df = x.query('gender == \"不明\"')\n",
    "    \n",
    "    return pd.Series({\n",
    "        \"age_mean_male\": male_df['age'].mean(),\n",
    "        \"age_mean_female\": female_df['age'].mean(),\n",
    "        \"age_mean_unknown\": unknown_df['age'].mean(),\n",
    "    })\n",
    "df.groupby('address1', as_index=False).apply(sample8)"
   ]
  }
 ],
 "metadata": {
  "kernelspec": {
   "display_name": "snakamura_222",
   "language": "python",
   "name": "snakamura_222"
  },
  "language_info": {
   "codemirror_mode": {
    "name": "ipython",
    "version": 3
   },
   "file_extension": ".py",
   "mimetype": "text/x-python",
   "name": "python",
   "nbconvert_exporter": "python",
   "pygments_lexer": "ipython3",
   "version": "3.8.12"
  }
 },
 "nbformat": 4,
 "nbformat_minor": 5
}
